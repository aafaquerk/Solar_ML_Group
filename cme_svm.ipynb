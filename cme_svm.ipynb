{
 "cells": [
  {
   "cell_type": "markdown",
   "metadata": {},
   "source": [
    "# predicting coronal mass ejections using machine learning methods"
   ]
  },
  {
   "cell_type": "markdown",
   "metadata": {},
   "source": [
    "In this notebook, we will be predicting whether or not a flaring active region will also emit a Coronal Mass Ejection (CME). The analysis that follows is published in Bobra & Ilonidis, 2016, <i> Astrophysical Journal</i>. If you use any of this code, we ask that you cite our paper. <br>\n",
    "\n",
    "Generally, active regions associated with large flares produce coronal mass ejections, but there have been some notable exceptions -- for example, the largest active region in the last 24 years, which appeared in October 2014, produced many large flares yet not a single CME. Here is the active region:"
   ]
  },
  {
   "cell_type": "code",
   "execution_count": 3,
   "metadata": {
    "collapsed": false
   },
   "outputs": [
    {
     "data": {
      "image/jpeg": "[encoded data removed]",
      "text/plain": [
       "<IPython.core.display.Image object>"
      ]
     },
     "execution_count": 3,
     "metadata": {},
     "output_type": "execute_result"
    }
   ],
   "source": [
    "from IPython.display import Image\n",
    "Image(url='http://jsoc.stanford.edu/data/hmi/images/2014/10/22/20141022_001500_Ic_flat_256.jpg',embed=True)"
   ]
  },
  {
   "cell_type": "markdown",
   "metadata": {},
   "source": [
    "As such, our positive class will be flaring active regions that did produce a CME. Our negative class will be flaring active regions that did not produce a CME. Our features will be spaceweather keywords calculated from vector magnetic field data taken by the Helioseismic and Magnetic Imager instrument on NASA's Solar Dynamics Observatory (SDO) satellite. These features characterize the magnetic field at the solar surface, which is the only place that it is possible to infer the field directly (see [Bobra et al., 2014](http://link.springer.com/article/10.1007%2Fs11207-014-0529-3) for more information on these keywords). SDO takes about a terabyte and a half of data a day, which is more data than any other satellite in NASA history. <br>"
   ]
  },
  {
   "cell_type": "markdown",
   "metadata": {},
   "source": [
    "First, we'll import some modules."
   ]
  },
  {
   "cell_type": "code",
   "execution_count": 14,
   "metadata": {
    "collapsed": false
   },
   "outputs": [],
   "source": [
    "import numpy as np, matplotlib.pylab as plt, matplotlib.mlab as mlab, pandas as pd, mpld3, requests, urllib, json\n",
    "from datetime import datetime as dt_obj\n",
    "from datetime import timedelta\n",
    "from sklearn import svm\n",
    "from sklearn import cross_validation\n",
    "from mpld3 import plugins\n",
    "from sunpy.time import TimeRange\n",
    "import sunpy.instr.goes\n",
    "from scipy.stats import pearsonr as pearse\n",
    "%matplotlib inline\n",
    "%config InlineBackend.figure_format='retina'"
   ]
  },
  {
   "cell_type": "markdown",
   "metadata": {},
   "source": [
    "Now we'll gather the data. The data come from three different places: \n",
    "\n",
    "1. CME data from SOHO/LASCO and STEREO/SECCHI coronographs, which can be accesed from the [DONKI database](http://kauai.ccmc.gsfc.nasa.gov/DONKI/) at NASA Goddard. This tells us if an active region has produced a CME or not.\n",
    "2. Flare data from the GOES X-Ray Flux Monitor at NOAA, which can be accessed with the `sunpy.instr.goes.get_event_list()` function. This tells us if an active region produced a flare or not.\n",
    "3. Active region data from the Solar Dynamics Observatory's Heliosesmic and Magnetic Imager instrument, which can be accessed from the [JSOC database](http://jsoc.stanford.edu/) via a JSON API. This gives us the features characterizing each active region."
   ]
  },
  {
   "cell_type": "markdown",
   "metadata": {},
   "source": [
    "### step 1: gathering data for the positive class"
   ]
  },
  {
   "cell_type": "markdown",
   "metadata": {},
   "source": [
    "Let's first query the [DONKI database](http://kauai.ccmc.gsfc.nasa.gov/DONKI/) to get the data associated with the positive class. Be forewarned: there's a lot of data cleaning involved with building the positive class."
   ]
  },
  {
   "cell_type": "code",
   "execution_count": 93,
   "metadata": {
    "collapsed": false
   },
   "outputs": [
    {
     "name": "stdout",
     "output_type": "stream",
     "text": [
      "Index(['activeRegionNum', 'beginTime', 'classType', 'endTime', 'flrID',\n",
      "       'instruments', 'linkedEvents', 'peakTime', 'sourceLocation'],\n",
      "      dtype='object')\n",
      "There are 117 possible CME events (positive class).\n",
      "Class, Peak Time, Active Region Number, Directly Linked Event(s)\n",
      "X2.2 2011-02-15T01:56Z 11158.0 [{'activityID': '2011-02-15T02:25:00-CME-001'}]\n",
      "M3.5 2011-02-24T07:35Z 11163.0 [{'activityID': '2011-02-24T08:00:00-CME-001'}]\n",
      "M2.0 2011-03-07T14:30Z 11166.0 [{'activityID': '2011-03-07T14:40:00-CME-001'}]\n",
      "M3.7 2011-03-07T20:12Z 11164.0 [{'activityID': '2011-03-07T20:12:00-CME-001'}]\n",
      "M1.5 2011-03-08T03:58Z 11171.0 [{'activityID': '2011-03-08T05:00:00-CME-001'}]\n",
      "M2.5 2011-06-07T06:41Z 11226.0 [{'activityID': '2011-06-07T06:50:00-CME-001'}, {'activityID': '2011-06-07T08:25:00-SEP-001'}]\n",
      "M6.0 2011-08-03T13:48Z 11261.0 [{'activityID': '2011-08-03T13:55:00-CME-001'}]\n",
      "M9.3 2011-08-04T03:57Z 11261.0 [{'activityID': '2011-08-04T04:10:00-CME-001'}, {'activityID': '2011-08-04T05:00:00-SEP-001'}, {'activityID': '2011-08-04T05:10:00-SEP-001'}]\n",
      "X1.8 2011-09-07T22:38Z 11283.0 [{'activityID': '2011-09-07T23:24:00-CME-001'}]\n",
      "X1.4 2011-09-22T11:01Z nothing [{'activityID': '2011-09-22T11:24:00-CME-001'}, {'activityID': '2011-09-22T11:35:00-SEP-001'}]\n",
      "M8.7 2012-01-23T03:59Z 11402.0 [{'activityID': '2012-01-23T04:00:00-CME-001'}, {'activityID': '2012-01-23T04:49:00-SEP-001'}, {'activityID': '2012-01-23T05:00:00-SEP-001'}, {'activityID': '2012-01-23T05:30:00-SEP-001'}, {'activityID': '2012-01-23T08:15:00-SEP-001'}, {'activityID': '2012-01-24T06:30:00-SEP-001'}]\n",
      "X1.8 2012-01-27T18:37Z 11402.0 [{'activityID': '2012-01-27T18:39:00-CME-001'}, {'activityID': '2012-01-27T23:35:00-SEP-001'}]\n",
      "X1.1 2012-03-05T04:05Z 11429.0 [{'activityID': '2012-03-05T04:00:00-CME-001'}]\n",
      "X5.4 2012-03-07T00:24Z 11429.0 [{'activityID': '2012-03-07T00:36:00-CME-001'}, {'activityID': '2012-03-07T01:25:00-CME-001'}, {'activityID': '2012-03-07T01:44:00-SEP-001'}, {'activityID': '2012-03-07T04:05:00-SEP-001'}, {'activityID': '2012-03-07T05:00:00-SEP-001'}]\n",
      "X1.3 2012-03-07T01:14Z nothing [{'activityID': '2012-03-07T00:36:00-CME-001'}, {'activityID': '2012-03-07T01:25:00-CME-001'}, {'activityID': '2012-03-07T01:44:00-SEP-001'}, {'activityID': '2012-03-07T04:05:00-SEP-001'}, {'activityID': '2012-03-07T05:00:00-SEP-001'}]\n",
      "M6.3 2012-03-09T03:53Z nothing [{'activityID': '2012-03-09T04:25:00-CME-001'}]\n",
      "M5.4 2012-03-10T17:27Z 11429.0 [{'activityID': '2012-03-10T18:09:00-CME-001'}]\n",
      "M8.4 2012-03-10T17:44Z 11429.0 [{'activityID': '2012-03-10T18:09:00-CME-001'}]\n",
      "M7.9 2012-03-13T17:41Z 11429.0 [{'activityID': '2012-03-13T17:52:00-CME-001'}, {'activityID': '2012-03-13T18:10:00-SEP-001'}]\n",
      "M5.1 2012-05-17T01:47Z nothing [{'activityID': '2012-05-17T01:48:00-CME-001'}, {'activityID': '2012-05-17T02:10:00-SEP-001'}]\n",
      "M1.2 2012-06-13T13:17Z 11504.0 [{'activityID': '2012-06-13T14:00:00-CME-001'}]\n",
      "M1.9 2012-06-14T14:35Z 11504.0 [{'activityID': '2012-06-14T14:09:00-CME-001'}]\n",
      "X1.1 2012-07-06T23:08Z nothing [{'activityID': '2012-07-06T23:12:00-CME-001'}, {'activityID': '2012-07-07T04:00:00-SEP-001'}]\n",
      "X1.4 2012-07-12T16:49Z 11520.0 [{'activityID': '2012-07-12T16:54:00-CME-001'}, {'activityID': '2012-07-12T17:50:00-SEP-001'}, {'activityID': '2012-07-12T18:18:00-SEP-001'}, {'activityID': '2012-07-12T18:35:00-SEP-001'}]\n",
      "M1.8 2012-07-17T17:15Z 11520.0 [{'activityID': '2012-07-17T14:24:00-CME-001'}, {'activityID': '2012-07-17T16:30:00-SEP-001'}]\n",
      "M7.7 2012-07-19T05:58Z 11520.0 [{'activityID': '2012-07-19T05:36:00-CME-001'}]\n",
      "M6.2 2012-07-28T20:56Z nothing [{'activityID': '2012-07-28T21:24:00-CME-001'}]\n",
      "M1.7 2012-11-08T02:23Z nothing [{'activityID': '2012-11-08T11:09:00-CME-001'}]\n",
      "M3.5 2012-11-21T15:30Z 11618.0 [{'activityID': '2012-11-21T16:24:00-CME-001'}]\n",
      "M1.2 2013-03-15T06:58Z nothing [{'activityID': '2013-03-15T06:54:00-CME-001'}]\n",
      "M6.5 2013-04-11T07:16Z 11719.0 [{'activityID': '2013-04-11T07:36:00-CME-001'}, {'activityID': '2013-04-11T08:12:00-SEP-001'}, {'activityID': '2013-04-11T09:30:00-SEP-001'}, {'activityID': '2013-04-11T10:10:00-SEP-001'}]\n",
      "X1.6 2013-05-13T02:17Z nothing [{'activityID': '2013-05-13T02:54:00-CME-001'}, {'activityID': '2013-05-13T04:12:00-SEP-001'}]\n",
      "X2.8 2013-05-13T16:05Z nothing [{'activityID': '2013-05-13T16:18:00-CME-001'}, {'activityID': '2013-05-13T18:02:00-SEP-001'}]\n",
      "X3.2 2013-05-14T01:11Z nothing [{'activityID': '2013-05-14T01:30:00-CME-001'}]\n",
      "X1.2 2013-05-15T01:48Z nothing [{'activityID': '2013-05-15T02:18:00-CME-001'}, {'activityID': '2013-05-15T13:25:00-SEP-001'}]\n",
      "M5.0 2013-05-22T13:38Z nothing [{'activityID': '2013-05-22T13:24:00-CME-001'}, {'activityID': '2013-05-22T15:05:00-SEP-001'}, {'activityID': '2013-05-22T15:05:00-SEP-002'}, {'activityID': '2013-05-22T15:30:00-SEP-001'}]\n",
      "M4.3 2013-10-22T21:20Z 11875.0 [{'activityID': '2013-10-22T22:00:00-CME-001'}]\n",
      "M9.3 2013-10-24T00:30Z 11877.0 [{'activityID': '2013-10-24T01:48:00-CME-001'}]\n",
      "X1.7 2013-10-25T08:01Z 11882.0 [{'activityID': '2013-10-25T08:24:00-CME-001'}, {'activityID': '2013-10-25T13:36:00-SEP-001'}]\n",
      "X2.1 2013-10-25T15:03Z 11882.0 [{'activityID': '2013-10-25T15:12:00-CME-001'}]\n",
      "M3.1 2013-10-26T19:27Z 11884.0 [{'activityID': '2013-10-26T20:09:00-CME-001'}]\n",
      "X1.0 2013-10-28T02:03Z 11875.0 [{'activityID': '2013-10-28T02:12:00-CME-001'}]\n",
      "M5.1 2013-10-28T04:41Z 11875.0 [{'activityID': '2013-10-28T04:48:00-CME-001'}]\n",
      "X2.3 2013-10-29T21:54Z 11875.0 [{'activityID': '2013-10-29T22:12:00-CME-001'}]\n",
      "X1.1 2013-11-08T04:26Z 11890.0 [{'activityID': '2013-11-08T06:09:00-CME-001'}]\n",
      "X1.1 2013-11-10T05:14Z 11890.0 [{'activityID': '2013-11-10T05:39:00-CME-001'}]\n",
      "X1.0 2013-11-19T10:26Z 11893.0 [{'activityID': '2013-11-19T10:39:00-CME-001'}]\n",
      "M4.0 2014-01-04T19:46Z 11943.0 [{'activityID': '2014-01-04T21:25:00-CME-001'}]\n",
      "M1.9 2014-01-04T22:52Z 11936.0 [{'activityID': '2014-01-05T00:54:00-CME-001'}]\n",
      "X1.2 2014-01-07T18:32Z 11943.0 [{'activityID': '2014-01-07T18:24:00-CME-001'}, {'activityID': '2014-01-07T19:45:00-SEP-001'}, {'activityID': '2014-01-07T20:30:00-SEP-001'}, {'activityID': '2014-01-07T20:30:00-SEP-002'}]\n",
      "M3.6 2014-01-08T03:47Z 11947.0 [{'activityID': '2014-01-08T04:12:00-CME-001'}]\n",
      "M1.0 2014-01-27T01:21Z nothing [{'activityID': '2014-01-27T02:24:00-CME-001'}]\n",
      "M1.1 2014-01-27T02:10Z nothing [{'activityID': '2014-01-27T02:24:00-CME-001'}]\n",
      "M1.1 2014-01-30T08:11Z 11967.0 [{'activityID': '2014-01-30T08:36:00-CME-001'}]\n",
      "M6.6 2014-01-30T16:11Z 11967.0 [{'activityID': '2014-01-30T16:24:00-CME-001'}]\n",
      "M1.0 2014-02-09T16:14Z 11976.0 [{'activityID': '2014-02-09T16:12:00-CME-001'}]\n",
      "M1.7 2014-02-11T03:31Z 11974.0 [{'activityID': '2014-02-11T05:24:00-CME-001'}]\n",
      "X4.9 2014-02-25T00:49Z nothing [{'activityID': '2014-02-25T01:25:00-CME-001'}, {'activityID': '2014-02-25T06:05:00-SEP-001'}, {'activityID': '2014-02-25T13:55:00-SEP-001'}]\n",
      "X1.0 2014-03-29T17:48Z 12017.0 [{'activityID': '2014-03-29T18:39:00-CME-001'}]\n",
      "M6.5 2014-04-02T14:05Z 12027.0 [{'activityID': '2014-04-02T13:55:00-CME-001'}, {'activityID': '2014-04-02T15:55:00-SEP-001'}]\n",
      "M7.3 2014-04-18T13:03Z 12036.0 [{'activityID': '2014-04-18T13:09:00-CME-001'}, {'activityID': '2014-04-18T15:25:00-SEP-001'}, {'activityID': '2014-04-18T21:51:00-SEP-001'}]\n",
      "X1.3 2014-04-25T00:27Z 12035.0 [{'activityID': '2014-04-25T00:48:00-CME-001'}]\n",
      "M1.8 2014-05-06T09:03Z 12051.0 [{'activityID': '2014-05-06T09:12:00-CME-001'}]\n",
      "M1.0 2014-05-06T22:09Z 12051.0 [{'activityID': '2014-05-06T22:17:00-CME-001'}]\n",
      "M1.2 2014-05-07T16:29Z 12051.0 [{'activityID': '2014-05-07T16:39:00-CME-001'}]\n",
      "X2.2 2014-06-10T11:42Z 12087.0 [{'activityID': '2014-06-10T12:24:00-CME-001'}]\n",
      "X1.5 2014-06-10T12:52Z 12087.0 [{'activityID': '2014-06-10T13:09:00-CME-001'}]\n",
      "M3.1 2014-06-12T22:16Z 12085.0 [{'activityID': '2014-06-12T22:12:00-CME-001'}]\n",
      "M1.4 2014-06-14T19:29Z nothing [{'activityID': '2014-06-14T19:48:00-CME-001'}]\n",
      "M1.4 2014-07-01T11:23Z 12160.0 [{'activityID': '2014-07-01T12:39:00-CME-001'}]\n",
      "M6.5 2014-07-08T16:20Z 12113.0 [{'activityID': '2014-07-08T16:54:00-CME-001'}]\n",
      "M1.5 2014-08-01T18:12Z 12127.0 [{'activityID': '2014-08-01T18:54:00-CME-001'}]\n",
      "M3.4 2014-08-21T13:31Z 12149.0 [{'activityID': '2014-08-21T14:36:00-CME-001'}]\n",
      "M2.0 2014-08-25T15:10Z 12146.0 [{'activityID': '2014-08-25T15:36:00-CME-001'}]\n",
      "M3.9 2014-08-25T20:21Z 12146.0 [{'activityID': '2014-08-25T21:24:00-CME-001'}]\n",
      "M2.5 2014-09-03T13:53Z 12159.0 [{'activityID': '2014-09-03T14:12:00-CME-001'}]\n",
      "M4.6 2014-09-09T00:28Z 12158.0 [{'activityID': '2014-09-09T00:16:00-CME-001'}]\n",
      "X1.6 2014-09-10T17:45Z 12158.0 [{'activityID': '2014-09-10T18:18:00-CME-001'}, {'activityID': '2014-09-11T02:40:00-SEP-001'}, {'activityID': '2014-09-11T04:25:00-SEP-001'}]\n",
      "M1.5 2014-09-14T02:16Z 12157.0 [{'activityID': '2014-09-14T03:12:00-CME-001'}]\n",
      "M2.3 2014-09-23T23:15Z 12172.0 [{'activityID': '2014-09-24T00:24:00-CME-001'}]\n",
      "M5.1 2014-09-28T02:58Z 12173.0 [{'activityID': '2014-09-28T03:36:00-CME-001'}]\n",
      "M7.3 2014-10-02T19:01Z 12173.0 [{'activityID': '2014-10-02T19:24:00-CME-001'}]\n",
      "M2.2 2014-10-14T21:21Z nothing [{'activityID': '2014-10-14T19:00:00-CME-001'}, {'activityID': '2014-10-15T06:57:00-SEP-001'}]\n",
      "M4.3 2014-10-16T13:03Z 12192.0 [{'activityID': '2014-10-16T13:26:00-CME-001'}]\n",
      "M4.0 2014-10-24T07:48Z 12192.0 [{'activityID': '2014-10-24T08:12:00-CME-001'}]\n",
      "M2.2 2014-11-03T11:53Z 12205.0 [{'activityID': '2014-11-03T12:12:00-CME-001'}]\n",
      "M6.5 2014-11-03T22:40Z 12205.0 [{'activityID': '2014-11-03T23:12:00-CME-001'}]\n",
      "M2.6 2014-11-04T08:38Z 12205.0 [{'activityID': '2014-11-04T09:12:00-CME-001'}]\n",
      "M2.3 2014-11-04T09:04Z 12205.0 [{'activityID': '2014-11-04T09:12:00-CME-001'}]\n",
      "M7.9 2014-11-05T09:47Z 12205.0 [{'activityID': '2014-11-05T10:12:00-CME-001'}]\n",
      "M2.9 2014-11-05T19:44Z 12205.0 [{'activityID': '2014-11-05T20:00:00-CME-001'}]\n",
      "M5.4 2014-11-06T03:46Z 12205.0 [{'activityID': '2014-11-06T04:00:00-CME-001'}]\n",
      "M2.0 2014-11-07T04:25Z 12205.0 [{'activityID': '2014-11-07T04:17:00-CME-001'}]\n",
      "X1.6 2014-11-07T17:26Z 12205.0 [{'activityID': '2014-11-07T18:08:00-CME-001'}]\n",
      "M3.7 2014-11-15T20:46Z 12209.0 [{'activityID': '2014-11-15T21:12:00-CME-001'}]\n",
      "M1.1 2014-12-17T01:50Z 12241.0 [{'activityID': '2014-12-17T02:00:00-CME-001'}]\n",
      "M8.7 2014-12-17T04:51Z 12242.0 [{'activityID': '2014-12-17T05:00:00-CME-001'}]\n",
      "M6.9 2014-12-18T21:58Z 12241.0 [{'activityID': '2014-12-19T00:27:00-CME-001'}]\n",
      "X1.8 2014-12-20T00:24Z 12242.0 [{'activityID': '2014-12-20T01:25:00-CME-001'}]\n",
      "M5.6 2015-01-13T04:24Z 12257.0 [{'activityID': '2015-01-13T05:24:00-CME-001'}]\n",
      "M2.4 2015-02-09T23:35Z 12282.0 [{'activityID': '2015-02-09T23:24:00-CME-001'}]\n",
      "M3.0 2015-03-06T04:57Z nothing [{'activityID': '2015-03-06T04:49:00-CME-001'}, {'activityID': '2015-03-06T19:20:00-SEP-001'}]\n",
      "M1.5 2015-03-06T08:15Z nothing [{'activityID': '2015-03-06T07:12:00-CME-001'}]\n",
      "M9.2 2015-03-07T22:22Z 12297.0 [{'activityID': '2015-03-07T22:24:00-CME-001'}]\n",
      "M5.8 2015-03-09T23:53Z 12297.0 [{'activityID': '2015-03-10T00:00:00-CME-001'}]\n",
      "M5.1 2015-03-10T03:24Z 12297.0 [{'activityID': '2015-03-10T03:36:00-CME-001'}]\n",
      "X2.2 2015-03-11T16:22Z 12297.0 [{'activityID': '2015-03-11T18:00:00-CME-001'}]\n",
      "M1.0 2015-03-17T23:34Z 12297.0 [{'activityID': '2015-03-18T00:12:00-CME-001'}]\n",
      "M1.1 2015-04-12T09:50Z 12321.0 [{'activityID': '2015-04-12T10:00:00-CME-001'}]\n",
      "M2.2 2015-04-21T10:40Z nothing [{'activityID': '2015-04-21T10:36:00-CME-001'}]\n",
      "M1.1 2015-04-23T10:07Z 12321.0 [{'activityID': '2015-04-23T09:36:00-CME-001'}]\n",
      "X2.7 2015-05-05T22:11Z 12339.0 [{'activityID': '2015-05-05T22:24:00-CME-001'}]\n",
      "M3.0 2015-06-18T17:36Z 12371.0 [{'activityID': '2015-06-18T17:24:00-CME-001'}]\n",
      "M2.0 2015-06-21T01:42Z 12371.0 [{'activityID': '2015-06-21T02:48:00-CME-001'}, {'activityID': '2015-06-21T20:35:00-SEP-001'}]\n",
      "M2.6 2015-06-21T02:36Z 12371.0 [{'activityID': '2015-06-21T02:48:00-CME-001'}, {'activityID': '2015-06-21T20:35:00-SEP-001'}]\n",
      "M6.5 2015-06-22T18:23Z 12371.0 [{'activityID': '2015-06-22T18:36:00-CME-001'}]\n",
      "M7.9 2015-06-25T08:16Z 12371.0 [{'activityID': '2015-06-25T08:36:00-CME-001'}, {'activityID': '2015-06-25T18:00:00-SEP-001'}, {'activityID': '2015-06-26T01:20:00-SEP-001'}]\n"
     ]
    }
   ],
   "source": [
    "# url = \"http://kauai.ccmc.gsfc.nasa.gov/DONKI/search/\"\n",
    "# search_param = {\"eventName\": \"Solar Flare\",\n",
    "#                 \"startSearchDate\": \"2010-05-01\",\n",
    "#                 \"endSearchDate\": \"2015-07-01\"}\n",
    "\n",
    "# t_start = search_param['startSearchDate']\n",
    "# t_end   = search_param['endSearchDate']\n",
    "\n",
    "# response = requests.post(url, data=search_param)\n",
    "# html = response.content\n",
    "# events = pd.read_html(html, attrs={'id':'FLR_table'})[0]\n",
    "\n",
    "# get rid of the NaNs, as their presence disallows str.contains() function to be executed properly:\n",
    "url = \"https://kauai.ccmc.gsfc.nasa.gov/DONKI/WS/get/FLR?startDate=2010-05-01&endDate=2015-07-01\"\n",
    "response = urllib.request.urlopen(url)\n",
    "jsondata = response.read()\n",
    "events = pd.read_json(jsondata)\n",
    "events = events.fillna('nothing')\n",
    "# p = events['linkedEvents'].isnull().sum()\n",
    "# print(p)\n",
    "# find all the events with CMEs\n",
    "events = events[events.linkedEvents.astype(str).str.contains(\"CME\")]\n",
    "print(events.keys())\n",
    "\n",
    "# # find all the flares that are M1.0-class or greater\n",
    "events = events[events['classType'].str.contains(\"M|X\")]\n",
    "n_elements = len(events)\n",
    "print(\"There are\", n_elements, \"possible CME events (positive class).\")\n",
    "\n",
    "# # the following output is in the Stanford Digital Repository:\n",
    "print (\"Class, Peak Time, Active Region Number, Directly Linked Event(s)\")\n",
    "for i in range(len(events)):\n",
    " print(events['classType'].iloc[i],events['peakTime'].iloc[i],events['activeRegionNum'].iloc[i],events['linkedEvents'].iloc[i])"
   ]
  },
  {
   "cell_type": "markdown",
   "metadata": {},
   "source": [
    "We've discovered that the DONKI database is, at times, unreliable. These issues tend to crop up:\n",
    "\n",
    "1. On some occasions, the DONKI database has times for which both a CME and an M- or X-class flare occurred -- marking an example that would ordinarily go into the positive class -- but for which there is no NOAA active region number listed. However, the GOES flare database, maintained by the [National Centers for Environmental Information](http://ngdc.noaa.gov/), does have a NOAA active region number listed for this event. Thus, the DONKI database is incomplete for these times.\n",
    "2. On some occasions, the DONKI database has a NOAA active region number listed that is different than the NOAA active region number listed in the GOES database. Thus, the DONKI database is incorrect for these occasions.\n",
    "3. On some occastions, the DONKI database has a flare peak time that does not exist in the GOES database. Thus, the DONKI database is incorrect for these occasions.\n",
    "\n",
    "Our best bet is to verify the DONKI data by comparing it to the GOES data. If, for any given event, both data are the same, then it's correct. To do this, we'll use the `instr.goes.get_goes_event_list()` function in SunPy, which requires a datetime object. So let's first convert all our times into datetime_objects."
   ]
  },
  {
   "cell_type": "code",
   "execution_count": 114,
   "metadata": {
    "collapsed": false
   },
   "outputs": [],
   "source": [
    "def parse_tai_string(tstr):\n",
    "    year   = int(tstr[:4])\n",
    "    month  = int(tstr[5:7])\n",
    "    day    = int(tstr[8:10])\n",
    "    hour   = int(tstr[11:13])\n",
    "    minute = int(tstr[14:16])\n",
    "    return dt_obj(year,month,day,hour,minute)\n",
    "\n",
    "# create an array of datetime objects \n",
    "x = np.array([(parse_tai_string(events['peakTime'].iloc[i])) for i in range(n_elements)])"
   ]
  },
  {
   "cell_type": "markdown",
   "metadata": {},
   "source": [
    "Check for Case 1: In this case, the CME and flare exist but NOAA active region number does not exist in the DONKI database."
   ]
  },
  {
   "cell_type": "code",
   "execution_count": 116,
   "metadata": {
    "collapsed": false
   },
   "outputs": [
    {
     "ename": "TypeError",
     "evalue": "unsupported operand type(s) for +: 'datetime.datetime' and 'int'",
     "output_type": "error",
     "traceback": [
      "\u001b[0;31m---------------------------------------------------------------------------\u001b[0m",
      "\u001b[0;31mTypeError\u001b[0m                                 Traceback (most recent call last)",
      "\u001b[0;32m<ipython-input-116-2d70432166ed>\u001b[0m in \u001b[0;36m<module>\u001b[0;34m()\u001b[0m\n\u001b[1;32m      4\u001b[0m \u001b[1;32mfrom\u001b[0m \u001b[0msunpy\u001b[0m\u001b[1;33m.\u001b[0m\u001b[0mnet\u001b[0m \u001b[1;32mimport\u001b[0m \u001b[0mhek\u001b[0m\u001b[1;33m\u001b[0m\u001b[0m\n\u001b[1;32m      5\u001b[0m \u001b[1;33m\u001b[0m\u001b[0m\n\u001b[0;32m----> 6\u001b[0;31m \u001b[0mtime_range\u001b[0m \u001b[1;33m=\u001b[0m \u001b[0mTimeRange\u001b[0m\u001b[1;33m(\u001b[0m\u001b[0mx\u001b[0m\u001b[1;33m[\u001b[0m\u001b[1;36m1\u001b[0m\u001b[1;33m]\u001b[0m\u001b[1;33m,\u001b[0m \u001b[0mx\u001b[0m\u001b[1;33m[\u001b[0m\u001b[1;36m1\u001b[0m\u001b[1;33m]\u001b[0m\u001b[1;33m+\u001b[0m\u001b[1;36m10\u001b[0m\u001b[1;33m)\u001b[0m\u001b[1;33m\u001b[0m\u001b[0m\n\u001b[0m\u001b[1;32m      7\u001b[0m \u001b[0mgoes\u001b[0m \u001b[1;33m=\u001b[0m \u001b[0mGOESLightCurve\u001b[0m\u001b[1;33m.\u001b[0m\u001b[0mcreate\u001b[0m\u001b[1;33m(\u001b[0m\u001b[0mtime_range\u001b[0m\u001b[1;33m)\u001b[0m\u001b[1;33m\u001b[0m\u001b[0m\n\u001b[1;32m      8\u001b[0m \u001b[0mgoes\u001b[0m\u001b[1;33m.\u001b[0m\u001b[0mpeek\u001b[0m\u001b[1;33m(\u001b[0m\u001b[1;33m)\u001b[0m\u001b[1;33m\u001b[0m\u001b[0m\n",
      "\u001b[0;31mTypeError\u001b[0m: unsupported operand type(s) for +: 'datetime.datetime' and 'int'"
     ]
    }
   ],
   "source": [
    "import matplotlib.pyplot as plt\n",
    "from sunpy.lightcurve import GOESLightCurve\n",
    "from sunpy.time import TimeRange, parse_time\n",
    "from sunpy.net import hek\n",
    "\n",
    "time_range = TimeRange(x[1], x[1])\n",
    "goes = GOESLightCurve.create(time_range)\n",
    "goes.peek()\n",
    "#a=sunpy.instr.goes.get_goes_event_list(time_range,'M1')\n",
    "#print(a[0])"
   ]
  },
  {
   "cell_type": "code",
   "execution_count": 97,
   "metadata": {
    "collapsed": false
   },
   "outputs": [
    {
     "ename": "TimeoutError",
     "evalue": "[WinError 10060] A connection attempt failed because the connected party did not properly respond after a period of time, or established connection failed because connected host has failed to respond",
     "output_type": "error",
     "traceback": [
      "\u001b[0;31m---------------------------------------------------------------------------\u001b[0m",
      "\u001b[0;31mTimeoutError\u001b[0m                              Traceback (most recent call last)",
      "\u001b[0;32m<ipython-input-97-51fccfdc1474>\u001b[0m in \u001b[0;36m<module>\u001b[0;34m()\u001b[0m\n\u001b[1;32m      5\u001b[0m         \u001b[0mtime\u001b[0m \u001b[1;33m=\u001b[0m \u001b[0mx\u001b[0m\u001b[1;33m[\u001b[0m\u001b[0mi\u001b[0m\u001b[1;33m]\u001b[0m\u001b[1;33m\u001b[0m\u001b[0m\n\u001b[1;32m      6\u001b[0m         \u001b[0mtime_range\u001b[0m \u001b[1;33m=\u001b[0m \u001b[0mTimeRange\u001b[0m\u001b[1;33m(\u001b[0m\u001b[0mtime\u001b[0m\u001b[1;33m,\u001b[0m\u001b[0mtime\u001b[0m\u001b[1;33m)\u001b[0m\u001b[1;33m\u001b[0m\u001b[0m\n\u001b[0;32m----> 7\u001b[0;31m         \u001b[0mlistofresults\u001b[0m \u001b[1;33m=\u001b[0m \u001b[0msunpy\u001b[0m\u001b[1;33m.\u001b[0m\u001b[0minstr\u001b[0m\u001b[1;33m.\u001b[0m\u001b[0mgoes\u001b[0m\u001b[1;33m.\u001b[0m\u001b[0mget_goes_event_list\u001b[0m\u001b[1;33m(\u001b[0m\u001b[0mtime_range\u001b[0m\u001b[1;33m,\u001b[0m \u001b[0mgoes_class_filter\u001b[0m\u001b[1;33m=\u001b[0m\u001b[1;34m'M1'\u001b[0m\u001b[1;33m)\u001b[0m \u001b[1;31m#sunpy.instr.goes.get_goes_event_list(time_range,'M1')\u001b[0m\u001b[1;33m\u001b[0m\u001b[0m\n\u001b[0m\u001b[1;32m      8\u001b[0m         \u001b[1;32mif\u001b[0m \u001b[1;33m(\u001b[0m\u001b[0mlistofresults\u001b[0m\u001b[1;33m[\u001b[0m\u001b[1;36m0\u001b[0m\u001b[1;33m]\u001b[0m\u001b[1;33m[\u001b[0m\u001b[1;34m'noaa_active_region'\u001b[0m\u001b[1;33m]\u001b[0m \u001b[1;33m==\u001b[0m \u001b[1;36m0\u001b[0m\u001b[1;33m)\u001b[0m\u001b[1;33m:\u001b[0m\u001b[1;33m\u001b[0m\u001b[0m\n\u001b[1;32m      9\u001b[0m             \u001b[1;32mcontinue\u001b[0m\u001b[1;33m\u001b[0m\u001b[0m\n",
      "\u001b[0;32mC:\\Users\\Suit\\Anaconda3\\envs\\py35\\lib\\site-packages\\sunpy\\instr\\goes.py\u001b[0m in \u001b[0;36mget_goes_event_list\u001b[0;34m(timerange, goes_class_filter)\u001b[0m\n\u001b[1;32m    123\u001b[0m                               \u001b[0mhek\u001b[0m\u001b[1;33m.\u001b[0m\u001b[0mattrs\u001b[0m\u001b[1;33m.\u001b[0m\u001b[0mEventType\u001b[0m\u001b[1;33m(\u001b[0m\u001b[0mevent_type\u001b[0m\u001b[1;33m)\u001b[0m\u001b[1;33m,\u001b[0m\u001b[1;33m\u001b[0m\u001b[0m\n\u001b[1;32m    124\u001b[0m                               \u001b[0mhek\u001b[0m\u001b[1;33m.\u001b[0m\u001b[0mattrs\u001b[0m\u001b[1;33m.\u001b[0m\u001b[0mFL\u001b[0m\u001b[1;33m.\u001b[0m\u001b[0mGOESCls\u001b[0m \u001b[1;33m>\u001b[0m \u001b[0mgoes_class_filter\u001b[0m\u001b[1;33m,\u001b[0m\u001b[1;33m\u001b[0m\u001b[0m\n\u001b[0;32m--> 125\u001b[0;31m                               hek.attrs.OBS.Observatory == 'GOES')\n\u001b[0m\u001b[1;32m    126\u001b[0m     \u001b[1;32melse\u001b[0m\u001b[1;33m:\u001b[0m\u001b[1;33m\u001b[0m\u001b[0m\n\u001b[1;32m    127\u001b[0m         result = client.query(hek.attrs.Time(tstart, tend),\n",
      "\u001b[0;32mC:\\Users\\Suit\\Anaconda3\\envs\\py35\\lib\\site-packages\\sunpy\\net\\hek\\hek.py\u001b[0m in \u001b[0;36mquery\u001b[0;34m(self, *query)\u001b[0m\n\u001b[1;32m     92\u001b[0m \u001b[1;33m\u001b[0m\u001b[0m\n\u001b[1;32m     93\u001b[0m         \u001b[1;32mif\u001b[0m \u001b[0mlen\u001b[0m\u001b[1;33m(\u001b[0m\u001b[0mndata\u001b[0m\u001b[1;33m)\u001b[0m \u001b[1;33m==\u001b[0m \u001b[1;36m1\u001b[0m\u001b[1;33m:\u001b[0m\u001b[1;33m\u001b[0m\u001b[0m\n\u001b[0;32m---> 94\u001b[0;31m             \u001b[1;32mreturn\u001b[0m \u001b[0mself\u001b[0m\u001b[1;33m.\u001b[0m\u001b[0m_download\u001b[0m\u001b[1;33m(\u001b[0m\u001b[0mndata\u001b[0m\u001b[1;33m[\u001b[0m\u001b[1;36m0\u001b[0m\u001b[1;33m]\u001b[0m\u001b[1;33m)\u001b[0m\u001b[1;33m\u001b[0m\u001b[0m\n\u001b[0m\u001b[1;32m     95\u001b[0m         \u001b[1;32melse\u001b[0m\u001b[1;33m:\u001b[0m\u001b[1;33m\u001b[0m\u001b[0m\n\u001b[1;32m     96\u001b[0m             \u001b[1;32mreturn\u001b[0m \u001b[0mself\u001b[0m\u001b[1;33m.\u001b[0m\u001b[0m_merge\u001b[0m\u001b[1;33m(\u001b[0m\u001b[0mself\u001b[0m\u001b[1;33m.\u001b[0m\u001b[0m_download\u001b[0m\u001b[1;33m(\u001b[0m\u001b[0mdata\u001b[0m\u001b[1;33m)\u001b[0m \u001b[1;32mfor\u001b[0m \u001b[0mdata\u001b[0m \u001b[1;32min\u001b[0m \u001b[0mndata\u001b[0m\u001b[1;33m)\u001b[0m\u001b[1;33m\u001b[0m\u001b[0m\n",
      "\u001b[0;32mC:\\Users\\Suit\\Anaconda3\\envs\\py35\\lib\\site-packages\\sunpy\\net\\hek\\hek.py\u001b[0m in \u001b[0;36m_download\u001b[0;34m(self, data)\u001b[0m\n\u001b[1;32m     66\u001b[0m             \u001b[0mdata\u001b[0m\u001b[1;33m[\u001b[0m\u001b[1;34m'page'\u001b[0m\u001b[1;33m]\u001b[0m \u001b[1;33m=\u001b[0m \u001b[0mpage\u001b[0m\u001b[1;33m\u001b[0m\u001b[0m\n\u001b[1;32m     67\u001b[0m             fd = urllib.request.urlopen(\n\u001b[0;32m---> 68\u001b[0;31m                 self.url, urllib.parse.urlencode(data).encode('utf-8'))\n\u001b[0m\u001b[1;32m     69\u001b[0m             \u001b[1;32mtry\u001b[0m\u001b[1;33m:\u001b[0m\u001b[1;33m\u001b[0m\u001b[0m\n\u001b[1;32m     70\u001b[0m                 \u001b[0mresult\u001b[0m \u001b[1;33m=\u001b[0m \u001b[0mjson\u001b[0m\u001b[1;33m.\u001b[0m\u001b[0mload\u001b[0m\u001b[1;33m(\u001b[0m\u001b[0mreader\u001b[0m\u001b[1;33m(\u001b[0m\u001b[0mfd\u001b[0m\u001b[1;33m)\u001b[0m\u001b[1;33m)\u001b[0m\u001b[1;33m\u001b[0m\u001b[0m\n",
      "\u001b[0;32mC:\\Users\\Suit\\Anaconda3\\envs\\py35\\lib\\urllib\\request.py\u001b[0m in \u001b[0;36murlopen\u001b[0;34m(url, data, timeout, cafile, capath, cadefault, context)\u001b[0m\n\u001b[1;32m    161\u001b[0m     \u001b[1;32melse\u001b[0m\u001b[1;33m:\u001b[0m\u001b[1;33m\u001b[0m\u001b[0m\n\u001b[1;32m    162\u001b[0m         \u001b[0mopener\u001b[0m \u001b[1;33m=\u001b[0m \u001b[0m_opener\u001b[0m\u001b[1;33m\u001b[0m\u001b[0m\n\u001b[0;32m--> 163\u001b[0;31m     \u001b[1;32mreturn\u001b[0m \u001b[0mopener\u001b[0m\u001b[1;33m.\u001b[0m\u001b[0mopen\u001b[0m\u001b[1;33m(\u001b[0m\u001b[0murl\u001b[0m\u001b[1;33m,\u001b[0m \u001b[0mdata\u001b[0m\u001b[1;33m,\u001b[0m \u001b[0mtimeout\u001b[0m\u001b[1;33m)\u001b[0m\u001b[1;33m\u001b[0m\u001b[0m\n\u001b[0m\u001b[1;32m    164\u001b[0m \u001b[1;33m\u001b[0m\u001b[0m\n\u001b[1;32m    165\u001b[0m \u001b[1;32mdef\u001b[0m \u001b[0minstall_opener\u001b[0m\u001b[1;33m(\u001b[0m\u001b[0mopener\u001b[0m\u001b[1;33m)\u001b[0m\u001b[1;33m:\u001b[0m\u001b[1;33m\u001b[0m\u001b[0m\n",
      "\u001b[0;32mC:\\Users\\Suit\\Anaconda3\\envs\\py35\\lib\\urllib\\request.py\u001b[0m in \u001b[0;36mopen\u001b[0;34m(self, fullurl, data, timeout)\u001b[0m\n\u001b[1;32m    464\u001b[0m             \u001b[0mreq\u001b[0m \u001b[1;33m=\u001b[0m \u001b[0mmeth\u001b[0m\u001b[1;33m(\u001b[0m\u001b[0mreq\u001b[0m\u001b[1;33m)\u001b[0m\u001b[1;33m\u001b[0m\u001b[0m\n\u001b[1;32m    465\u001b[0m \u001b[1;33m\u001b[0m\u001b[0m\n\u001b[0;32m--> 466\u001b[0;31m         \u001b[0mresponse\u001b[0m \u001b[1;33m=\u001b[0m \u001b[0mself\u001b[0m\u001b[1;33m.\u001b[0m\u001b[0m_open\u001b[0m\u001b[1;33m(\u001b[0m\u001b[0mreq\u001b[0m\u001b[1;33m,\u001b[0m \u001b[0mdata\u001b[0m\u001b[1;33m)\u001b[0m\u001b[1;33m\u001b[0m\u001b[0m\n\u001b[0m\u001b[1;32m    467\u001b[0m \u001b[1;33m\u001b[0m\u001b[0m\n\u001b[1;32m    468\u001b[0m         \u001b[1;31m# post-process response\u001b[0m\u001b[1;33m\u001b[0m\u001b[1;33m\u001b[0m\u001b[0m\n",
      "\u001b[0;32mC:\\Users\\Suit\\Anaconda3\\envs\\py35\\lib\\urllib\\request.py\u001b[0m in \u001b[0;36m_open\u001b[0;34m(self, req, data)\u001b[0m\n\u001b[1;32m    482\u001b[0m         \u001b[0mprotocol\u001b[0m \u001b[1;33m=\u001b[0m \u001b[0mreq\u001b[0m\u001b[1;33m.\u001b[0m\u001b[0mtype\u001b[0m\u001b[1;33m\u001b[0m\u001b[0m\n\u001b[1;32m    483\u001b[0m         result = self._call_chain(self.handle_open, protocol, protocol +\n\u001b[0;32m--> 484\u001b[0;31m                                   '_open', req)\n\u001b[0m\u001b[1;32m    485\u001b[0m         \u001b[1;32mif\u001b[0m \u001b[0mresult\u001b[0m\u001b[1;33m:\u001b[0m\u001b[1;33m\u001b[0m\u001b[0m\n\u001b[1;32m    486\u001b[0m             \u001b[1;32mreturn\u001b[0m \u001b[0mresult\u001b[0m\u001b[1;33m\u001b[0m\u001b[0m\n",
      "\u001b[0;32mC:\\Users\\Suit\\Anaconda3\\envs\\py35\\lib\\urllib\\request.py\u001b[0m in \u001b[0;36m_call_chain\u001b[0;34m(self, chain, kind, meth_name, *args)\u001b[0m\n\u001b[1;32m    442\u001b[0m         \u001b[1;32mfor\u001b[0m \u001b[0mhandler\u001b[0m \u001b[1;32min\u001b[0m \u001b[0mhandlers\u001b[0m\u001b[1;33m:\u001b[0m\u001b[1;33m\u001b[0m\u001b[0m\n\u001b[1;32m    443\u001b[0m             \u001b[0mfunc\u001b[0m \u001b[1;33m=\u001b[0m \u001b[0mgetattr\u001b[0m\u001b[1;33m(\u001b[0m\u001b[0mhandler\u001b[0m\u001b[1;33m,\u001b[0m \u001b[0mmeth_name\u001b[0m\u001b[1;33m)\u001b[0m\u001b[1;33m\u001b[0m\u001b[0m\n\u001b[0;32m--> 444\u001b[0;31m             \u001b[0mresult\u001b[0m \u001b[1;33m=\u001b[0m \u001b[0mfunc\u001b[0m\u001b[1;33m(\u001b[0m\u001b[1;33m*\u001b[0m\u001b[0margs\u001b[0m\u001b[1;33m)\u001b[0m\u001b[1;33m\u001b[0m\u001b[0m\n\u001b[0m\u001b[1;32m    445\u001b[0m             \u001b[1;32mif\u001b[0m \u001b[0mresult\u001b[0m \u001b[1;32mis\u001b[0m \u001b[1;32mnot\u001b[0m \u001b[1;32mNone\u001b[0m\u001b[1;33m:\u001b[0m\u001b[1;33m\u001b[0m\u001b[0m\n\u001b[1;32m    446\u001b[0m                 \u001b[1;32mreturn\u001b[0m \u001b[0mresult\u001b[0m\u001b[1;33m\u001b[0m\u001b[0m\n",
      "\u001b[0;32mC:\\Users\\Suit\\Anaconda3\\envs\\py35\\lib\\urllib\\request.py\u001b[0m in \u001b[0;36mhttp_open\u001b[0;34m(self, req)\u001b[0m\n\u001b[1;32m   1280\u001b[0m \u001b[1;33m\u001b[0m\u001b[0m\n\u001b[1;32m   1281\u001b[0m     \u001b[1;32mdef\u001b[0m \u001b[0mhttp_open\u001b[0m\u001b[1;33m(\u001b[0m\u001b[0mself\u001b[0m\u001b[1;33m,\u001b[0m \u001b[0mreq\u001b[0m\u001b[1;33m)\u001b[0m\u001b[1;33m:\u001b[0m\u001b[1;33m\u001b[0m\u001b[0m\n\u001b[0;32m-> 1282\u001b[0;31m         \u001b[1;32mreturn\u001b[0m \u001b[0mself\u001b[0m\u001b[1;33m.\u001b[0m\u001b[0mdo_open\u001b[0m\u001b[1;33m(\u001b[0m\u001b[0mhttp\u001b[0m\u001b[1;33m.\u001b[0m\u001b[0mclient\u001b[0m\u001b[1;33m.\u001b[0m\u001b[0mHTTPConnection\u001b[0m\u001b[1;33m,\u001b[0m \u001b[0mreq\u001b[0m\u001b[1;33m)\u001b[0m\u001b[1;33m\u001b[0m\u001b[0m\n\u001b[0m\u001b[1;32m   1283\u001b[0m \u001b[1;33m\u001b[0m\u001b[0m\n\u001b[1;32m   1284\u001b[0m     \u001b[0mhttp_request\u001b[0m \u001b[1;33m=\u001b[0m \u001b[0mAbstractHTTPHandler\u001b[0m\u001b[1;33m.\u001b[0m\u001b[0mdo_request_\u001b[0m\u001b[1;33m\u001b[0m\u001b[0m\n",
      "\u001b[0;32mC:\\Users\\Suit\\Anaconda3\\envs\\py35\\lib\\urllib\\request.py\u001b[0m in \u001b[0;36mdo_open\u001b[0;34m(self, http_class, req, **http_conn_args)\u001b[0m\n\u001b[1;32m   1255\u001b[0m             \u001b[1;32mexcept\u001b[0m \u001b[0mOSError\u001b[0m \u001b[1;32mas\u001b[0m \u001b[0merr\u001b[0m\u001b[1;33m:\u001b[0m \u001b[1;31m# timeout error\u001b[0m\u001b[1;33m\u001b[0m\u001b[0m\n\u001b[1;32m   1256\u001b[0m                 \u001b[1;32mraise\u001b[0m \u001b[0mURLError\u001b[0m\u001b[1;33m(\u001b[0m\u001b[0merr\u001b[0m\u001b[1;33m)\u001b[0m\u001b[1;33m\u001b[0m\u001b[0m\n\u001b[0;32m-> 1257\u001b[0;31m             \u001b[0mr\u001b[0m \u001b[1;33m=\u001b[0m \u001b[0mh\u001b[0m\u001b[1;33m.\u001b[0m\u001b[0mgetresponse\u001b[0m\u001b[1;33m(\u001b[0m\u001b[1;33m)\u001b[0m\u001b[1;33m\u001b[0m\u001b[0m\n\u001b[0m\u001b[1;32m   1258\u001b[0m         \u001b[1;32mexcept\u001b[0m\u001b[1;33m:\u001b[0m\u001b[1;33m\u001b[0m\u001b[0m\n\u001b[1;32m   1259\u001b[0m             \u001b[0mh\u001b[0m\u001b[1;33m.\u001b[0m\u001b[0mclose\u001b[0m\u001b[1;33m(\u001b[0m\u001b[1;33m)\u001b[0m\u001b[1;33m\u001b[0m\u001b[0m\n",
      "\u001b[0;32mC:\\Users\\Suit\\Anaconda3\\envs\\py35\\lib\\http\\client.py\u001b[0m in \u001b[0;36mgetresponse\u001b[0;34m(self)\u001b[0m\n\u001b[1;32m   1195\u001b[0m         \u001b[1;32mtry\u001b[0m\u001b[1;33m:\u001b[0m\u001b[1;33m\u001b[0m\u001b[0m\n\u001b[1;32m   1196\u001b[0m             \u001b[1;32mtry\u001b[0m\u001b[1;33m:\u001b[0m\u001b[1;33m\u001b[0m\u001b[0m\n\u001b[0;32m-> 1197\u001b[0;31m                 \u001b[0mresponse\u001b[0m\u001b[1;33m.\u001b[0m\u001b[0mbegin\u001b[0m\u001b[1;33m(\u001b[0m\u001b[1;33m)\u001b[0m\u001b[1;33m\u001b[0m\u001b[0m\n\u001b[0m\u001b[1;32m   1198\u001b[0m             \u001b[1;32mexcept\u001b[0m \u001b[0mConnectionError\u001b[0m\u001b[1;33m:\u001b[0m\u001b[1;33m\u001b[0m\u001b[0m\n\u001b[1;32m   1199\u001b[0m                 \u001b[0mself\u001b[0m\u001b[1;33m.\u001b[0m\u001b[0mclose\u001b[0m\u001b[1;33m(\u001b[0m\u001b[1;33m)\u001b[0m\u001b[1;33m\u001b[0m\u001b[0m\n",
      "\u001b[0;32mC:\\Users\\Suit\\Anaconda3\\envs\\py35\\lib\\http\\client.py\u001b[0m in \u001b[0;36mbegin\u001b[0;34m(self)\u001b[0m\n\u001b[1;32m    295\u001b[0m         \u001b[1;31m# read until we get a non-100 response\u001b[0m\u001b[1;33m\u001b[0m\u001b[1;33m\u001b[0m\u001b[0m\n\u001b[1;32m    296\u001b[0m         \u001b[1;32mwhile\u001b[0m \u001b[1;32mTrue\u001b[0m\u001b[1;33m:\u001b[0m\u001b[1;33m\u001b[0m\u001b[0m\n\u001b[0;32m--> 297\u001b[0;31m             \u001b[0mversion\u001b[0m\u001b[1;33m,\u001b[0m \u001b[0mstatus\u001b[0m\u001b[1;33m,\u001b[0m \u001b[0mreason\u001b[0m \u001b[1;33m=\u001b[0m \u001b[0mself\u001b[0m\u001b[1;33m.\u001b[0m\u001b[0m_read_status\u001b[0m\u001b[1;33m(\u001b[0m\u001b[1;33m)\u001b[0m\u001b[1;33m\u001b[0m\u001b[0m\n\u001b[0m\u001b[1;32m    298\u001b[0m             \u001b[1;32mif\u001b[0m \u001b[0mstatus\u001b[0m \u001b[1;33m!=\u001b[0m \u001b[0mCONTINUE\u001b[0m\u001b[1;33m:\u001b[0m\u001b[1;33m\u001b[0m\u001b[0m\n\u001b[1;32m    299\u001b[0m                 \u001b[1;32mbreak\u001b[0m\u001b[1;33m\u001b[0m\u001b[0m\n",
      "\u001b[0;32mC:\\Users\\Suit\\Anaconda3\\envs\\py35\\lib\\http\\client.py\u001b[0m in \u001b[0;36m_read_status\u001b[0;34m(self)\u001b[0m\n\u001b[1;32m    256\u001b[0m \u001b[1;33m\u001b[0m\u001b[0m\n\u001b[1;32m    257\u001b[0m     \u001b[1;32mdef\u001b[0m \u001b[0m_read_status\u001b[0m\u001b[1;33m(\u001b[0m\u001b[0mself\u001b[0m\u001b[1;33m)\u001b[0m\u001b[1;33m:\u001b[0m\u001b[1;33m\u001b[0m\u001b[0m\n\u001b[0;32m--> 258\u001b[0;31m         \u001b[0mline\u001b[0m \u001b[1;33m=\u001b[0m \u001b[0mstr\u001b[0m\u001b[1;33m(\u001b[0m\u001b[0mself\u001b[0m\u001b[1;33m.\u001b[0m\u001b[0mfp\u001b[0m\u001b[1;33m.\u001b[0m\u001b[0mreadline\u001b[0m\u001b[1;33m(\u001b[0m\u001b[0m_MAXLINE\u001b[0m \u001b[1;33m+\u001b[0m \u001b[1;36m1\u001b[0m\u001b[1;33m)\u001b[0m\u001b[1;33m,\u001b[0m \u001b[1;34m\"iso-8859-1\"\u001b[0m\u001b[1;33m)\u001b[0m\u001b[1;33m\u001b[0m\u001b[0m\n\u001b[0m\u001b[1;32m    259\u001b[0m         \u001b[1;32mif\u001b[0m \u001b[0mlen\u001b[0m\u001b[1;33m(\u001b[0m\u001b[0mline\u001b[0m\u001b[1;33m)\u001b[0m \u001b[1;33m>\u001b[0m \u001b[0m_MAXLINE\u001b[0m\u001b[1;33m:\u001b[0m\u001b[1;33m\u001b[0m\u001b[0m\n\u001b[1;32m    260\u001b[0m             \u001b[1;32mraise\u001b[0m \u001b[0mLineTooLong\u001b[0m\u001b[1;33m(\u001b[0m\u001b[1;34m\"status line\"\u001b[0m\u001b[1;33m)\u001b[0m\u001b[1;33m\u001b[0m\u001b[0m\n",
      "\u001b[0;32mC:\\Users\\Suit\\Anaconda3\\envs\\py35\\lib\\socket.py\u001b[0m in \u001b[0;36mreadinto\u001b[0;34m(self, b)\u001b[0m\n\u001b[1;32m    573\u001b[0m         \u001b[1;32mwhile\u001b[0m \u001b[1;32mTrue\u001b[0m\u001b[1;33m:\u001b[0m\u001b[1;33m\u001b[0m\u001b[0m\n\u001b[1;32m    574\u001b[0m             \u001b[1;32mtry\u001b[0m\u001b[1;33m:\u001b[0m\u001b[1;33m\u001b[0m\u001b[0m\n\u001b[0;32m--> 575\u001b[0;31m                 \u001b[1;32mreturn\u001b[0m \u001b[0mself\u001b[0m\u001b[1;33m.\u001b[0m\u001b[0m_sock\u001b[0m\u001b[1;33m.\u001b[0m\u001b[0mrecv_into\u001b[0m\u001b[1;33m(\u001b[0m\u001b[0mb\u001b[0m\u001b[1;33m)\u001b[0m\u001b[1;33m\u001b[0m\u001b[0m\n\u001b[0m\u001b[1;32m    576\u001b[0m             \u001b[1;32mexcept\u001b[0m \u001b[0mtimeout\u001b[0m\u001b[1;33m:\u001b[0m\u001b[1;33m\u001b[0m\u001b[0m\n\u001b[1;32m    577\u001b[0m                 \u001b[0mself\u001b[0m\u001b[1;33m.\u001b[0m\u001b[0m_timeout_occurred\u001b[0m \u001b[1;33m=\u001b[0m \u001b[1;32mTrue\u001b[0m\u001b[1;33m\u001b[0m\u001b[0m\n",
      "\u001b[0;31mTimeoutError\u001b[0m: [WinError 10060] A connection attempt failed because the connected party did not properly respond after a period of time, or established connection failed because connected host has failed to respond"
     ]
    }
   ],
   "source": [
    "# Case 1: CME and Flare exist but NOAA active region number does not exist in DONKI database\n",
    "number_of_donki_mistakes = 0\n",
    "for i in range(n_elements):\n",
    "    if (('CME' in str(events['linkedEvents'].iloc[i])) and ('nothing' in str(events['activeRegionNum'].iloc[i]))):\n",
    "        time = x[i]\n",
    "        time_range = TimeRange(time,time)\n",
    "        listofresults = sunpy.instr.goes.get_goes_event_list(time_range, goes_class_filter='M1') #sunpy.instr.goes.get_goes_event_list(time_range,'M1')\n",
    "        if (listofresults[0]['noaa_active_region'] == 0):\n",
    "            continue\n",
    "        else:\n",
    "            print(\"Missing NOAA number:\",events['activeRegionNum'].iloc[i],events['classType'].iloc[i],events['peakTime'].iloc[i],\"should be\",listofresults[0]['noaa_active_region'],\"; changing now.\")\n",
    "            events['activeRegionNum'].iloc[i] = listofresults[0]['noaa_active_region']\n",
    "            number_of_donki_mistakes += 1\n",
    "print('There are',number_of_donki_mistakes,'DONKI mistakes so far.')"
   ]
  },
  {
   "cell_type": "markdown",
   "metadata": {},
   "source": [
    "Now we grab all the data from the GOES database in preparation for checking Cases 2 and 3."
   ]
  },
  {
   "cell_type": "code",
   "execution_count": null,
   "metadata": {
    "collapsed": false
   },
   "outputs": [],
   "source": [
    "# Grab all the data from the GOES database\n",
    "time_range = TimeRange(t_start,t_end)\n",
    "listofresults = sunpy.instr.goes.get_goes_event_list(time_range,'M1')\n",
    "print 'Grabbed all the GOES data; there are',len(listofresults),'events.'\n",
    "# the following output is in the Stanford Digital Repository:\n",
    "print 'NOAA Active Region Number, Class, Peak Time'\n",
    "for i in range(len(listofresults)):#\n",
    "    print listofresults[i]['noaa_active_region'],listofresults[i]['goes_class'],listofresults[i]['peak_time']"
   ]
  },
  {
   "cell_type": "markdown",
   "metadata": {},
   "source": [
    "Check for Case 2: In this case, the NOAA active region number is wrong in the DONKI database."
   ]
  },
  {
   "cell_type": "code",
   "execution_count": null,
   "metadata": {
    "collapsed": false
   },
   "outputs": [],
   "source": [
    "# Case 2: NOAA active region number is wrong in DONKI database\n",
    "for i in range(len(listofresults)):\n",
    "    match_peak_times = np.where(x == listofresults[i]['peak_time'])\n",
    "    if (match_peak_times[0].size == 0):\n",
    "        continue\n",
    "    j = match_peak_times[0][0]\n",
    "    if (events['Active Region Number'].iloc[j] == 'nothing'):\n",
    "        continue\n",
    "    if ((listofresults[i]['noaa_active_region']) != int(events['Active Region Number'].iloc[j])):\n",
    "        print 'Messed up NOAA number:',int(events['Active Region Number'].iloc[j]),events['Class'].iloc[j],events['Peak Time'].iloc[j],\"should be\",listofresults[i]['noaa_active_region'],\"; changing now.\"\n",
    "        events['Active Region Number'].iloc[j] = listofresults[i]['noaa_active_region']\n",
    "        number_of_donki_mistakes += 1\n",
    "print 'There are',number_of_donki_mistakes,'DONKI mistakes so far.'"
   ]
  },
  {
   "cell_type": "markdown",
   "metadata": {},
   "source": [
    "Check for Case 3: In this case, the flare peak time is wrong in the DONKI database."
   ]
  },
  {
   "cell_type": "code",
   "execution_count": null,
   "metadata": {
    "collapsed": false
   },
   "outputs": [],
   "source": [
    "# Case 3: The flare peak time is wrong in the DONKI database.\n",
    "goes_peak_times = np.array([listofresults[i]['peak_time'] for i in range(len(listofresults))])\n",
    "for i in range(n_elements):\n",
    "    this_peak_time = x[i]\n",
    "    max_peak_time = this_peak_time + timedelta(0,0,0,0,6)\n",
    "    min_peak_time = this_peak_time - timedelta(0,0,0,0,6)\n",
    "    match_peak_times = (np.logical_and(goes_peak_times <= max_peak_time, goes_peak_times >= min_peak_time))\n",
    "    if not any(match_peak_times):\n",
    "        print 'DONKI flare peak time of',this_peak_time,'is not an actual GOES flare peak time. Flag event.'\n",
    "        events['Peak Time'].iloc[i] = 'nothing'\n",
    "        number_of_donki_mistakes += 1\n",
    "print 'There are',number_of_donki_mistakes,'DONKI mistakes.'"
   ]
  },
  {
   "cell_type": "markdown",
   "metadata": {},
   "source": [
    "Now let's query the JSOC database to see if there are active region parameters at the time of the flare. First read the following file to map NOAA active region numbers to HARPNUMs (a HARP, or an HMI Active Region Patch, is the preferred numbering system for the HMI active regions as they appear in the magnetic field data before NOAA observes them in white light):"
   ]
  },
  {
   "cell_type": "code",
   "execution_count": null,
   "metadata": {
    "collapsed": false
   },
   "outputs": [],
   "source": [
    "answer = pd.read_csv('http://jsoc.stanford.edu/doc/data/hmi/harpnum_to_noaa/all_harps_with_noaa_ars.txt',sep=' ')"
   ]
  },
  {
   "cell_type": "markdown",
   "metadata": {},
   "source": [
    "Now we can drop all rows that contain the value 'nothing' or 0 in the 'Active Region Number' column and create our final counts of how many events are in the positive or negative class:"
   ]
  },
  {
   "cell_type": "code",
   "execution_count": null,
   "metadata": {
    "collapsed": false
   },
   "outputs": [],
   "source": [
    "# also drop elements where the noaa active region equals 'nothing' or 0\n",
    "# the following assumes one match for match_nothing_ar or match_zero (could generalize this)\n",
    "match_nothing_ar = np.where(events['Active Region Number'] == 'nothing')\n",
    "match_zero = np.where(events['Active Region Number'] == 0)\n",
    "if (match_nothing_ar[0].size > 0):\n",
    "    events = events[events['Active Region Number'] != 'nothing']\n",
    "if (match_zero[0].size > 0):\n",
    "    events = events[events['Active Region Number'] != 0]\n",
    "\n",
    "match_nothing_time = np.where(events['Peak Time'] == 'nothing')\n",
    "if (match_nothing_time[0].size > 0):\n",
    "    events = events[events['Peak Time'] != 'nothing']\n",
    "\n",
    "n_elements = len(events)"
   ]
  },
  {
   "cell_type": "markdown",
   "metadata": {},
   "source": [
    "Now, let's determine at which time we'd like to predict CMEs. In general, many people try to predict a CME either 24 or 48 hours before it happens. We can report both in this study by setting a variable called `timedelayvariable`:"
   ]
  },
  {
   "cell_type": "code",
   "execution_count": null,
   "metadata": {
    "collapsed": true
   },
   "outputs": [],
   "source": [
    "timedelayvariable = 24"
   ]
  },
  {
   "cell_type": "markdown",
   "metadata": {},
   "source": [
    "Now, we'll convert the GOES Peak Time format into one that JSOC can understand by generating arrays of both datetime objects and strings:"
   ]
  },
  {
   "cell_type": "code",
   "execution_count": null,
   "metadata": {
    "collapsed": true
   },
   "outputs": [],
   "source": [
    "# subtract timedelayvariable hours before the GOES Peak Time and convert into a list of strings\n",
    "def create_tai_string(x):\n",
    "    t_rec = [] \n",
    "    for i in range(len(x)):\n",
    "        x[i] = (x[i] - timedelta(hours=timedelayvariable))\n",
    "        t_rec.append(x[i].strftime('%Y.%m.%d_%H:%M_TAI'))\n",
    "    print \"All times have been converted.\"\n",
    "    return t_rec"
   ]
  },
  {
   "cell_type": "code",
   "execution_count": null,
   "metadata": {
    "collapsed": false
   },
   "outputs": [],
   "source": [
    "# create an array of datetime objects \n",
    "x = np.array([(parse_tai_string(events['Peak Time'].iloc[i])) for i in range(n_elements)])\n",
    "t_rec = create_tai_string(x)"
   ]
  },
  {
   "cell_type": "markdown",
   "metadata": {},
   "source": [
    "Let's stuff the variable t_rec into the column 'Peak Time' and rename it to reflect its true values:"
   ]
  },
  {
   "cell_type": "code",
   "execution_count": null,
   "metadata": {
    "collapsed": false
   },
   "outputs": [],
   "source": [
    "events = events.rename(columns={'Peak Time': 'One Day Before Peak Time'})\n",
    "events['One Day Before Peak Time'] = t_rec"
   ]
  },
  {
   "cell_type": "markdown",
   "metadata": {},
   "source": [
    "Now we can grab the SDO data from the JSOC database by executing the JSON queries. We are selecting data that satisfies several criteria: The data has to be [1] disambiguated with a version of the disambiguation module greater than 1.1, [2] taken while the orbital velocity of the spacecraft is less than 3500 m/s, [3] of a high quality, and [4] within 70 degrees of central meridian. If the data pass all these tests, they are stuffed into one of two lists: one for the positive class (called CME_data) and one for the negative class (called no_CME_data). Data are sorted into these two classes based on the presence of the string 'CME' 'Directly Linked Event(s)' column of the events dataframe. "
   ]
  },
  {
   "cell_type": "code",
   "execution_count": null,
   "metadata": {
    "collapsed": false
   },
   "outputs": [],
   "source": [
    "def get_the_jsoc_data():\n",
    "    \n",
    "    catalog_data = []\n",
    "    classification = []\n",
    "    \n",
    "    for i in range(n_elements):\n",
    "    \n",
    "        print \"=====\",i,\"=====\"\n",
    "        # next match NOAA_ARS to HARPNUM\n",
    "        idx = answer[answer['NOAA_ARS'].str.contains(str(int(listofactiveregions[i])))]\n",
    "       \n",
    "        # if there's no HARPNUM, quit\n",
    "        if (idx.empty == True):\n",
    "            print 'skip: there are no matching HARPNUMs for', str(int(listofactiveregions[i]))\n",
    "            continue\n",
    "        \n",
    "        #construct jsoc_info queries and query jsoc database; we are querying for 25 keywords\n",
    "        url = \"http://jsoc.stanford.edu/cgi-bin/ajax/jsoc_info?ds=hmi.sharp_720s[\"+str(idx.HARPNUM.values[0])+\"][\"+t_rec[i]+\"][? (CODEVER7 !~ '1.1 ') and (abs(OBS_VR)< 3500) and (QUALITY<65536) ?]&op=rs_list&key=USFLUX,MEANGBT,MEANJZH,MEANPOT,SHRGT45,TOTUSJH,MEANGBH,MEANALP,MEANGAM,MEANGBZ,MEANJZD,TOTUSJZ,SAVNCPP,TOTPOT,MEANSHR,AREA_ACR,R_VALUE,ABSNJZH\"\n",
    "        response = urllib.urlopen(url)\n",
    "        status = response.getcode()\n",
    "    \n",
    "        # if there's no response at this time, quit\n",
    "        if status!= 200:\n",
    "            print 'skip: failed to find JSOC data for HARPNUM',idx.HARPNUM.values[0],'at time', t_rec[i]\n",
    "            continue\n",
    "    \n",
    "        # read the JSON output\n",
    "        data = json.loads(response.read())\n",
    "    \n",
    "        # if there are no data at this time, quit\n",
    "        if data['count'] == 0:\n",
    "            print 'skip: there are no data for HARPNUM',idx.HARPNUM.values[0],'at time', t_rec[i]\n",
    "            continue\n",
    "    \n",
    "        # check to see if the active region is too close to the limb\n",
    "        # we can compute the latitude of an active region in stonyhurst coordinates as follows:\n",
    "        # latitude_stonyhurst = CRVAL1 - CRLN_OBS\n",
    "        # for this we have to query the CEA series (but above we queried the other series as the CEA series does not have CODEVER5 in it)\n",
    "\n",
    "        url = \"http://jsoc.stanford.edu/cgi-bin/ajax/jsoc_info?ds=hmi.sharp_cea_720s[\"+str(idx.HARPNUM.values[0])+\"][\"+t_rec[i]+\"][? (abs(OBS_VR)< 3500) and (QUALITY<65536) ?]&op=rs_list&key=CRVAL1,CRLN_OBS\"\n",
    "        response = urllib.urlopen(url)\n",
    "        status = response.getcode()\n",
    "        \n",
    "        # if there's no response at this time, quit\n",
    "        if status!= 200:\n",
    "            print 'skip: failed to find CEA JSOC data for HARPNUM',idx.HARPNUM.values[0],'at time', t_rec[i]\n",
    "            continue\n",
    "    \n",
    "        # read the JSON output\n",
    "        latitude_information = json.loads(response.read())\n",
    "\n",
    "        # if there are no data at this time, quit\n",
    "        if latitude_information['count'] == 0:\n",
    "            print 'skip: there are no data for HARPNUM',idx.HARPNUM.values[0],'at time', t_rec[i]\n",
    "            continue\n",
    "\n",
    "        CRVAL1 = float(latitude_information['keywords'][0]['values'][0])\n",
    "        CRLN_OBS = float(latitude_information['keywords'][1]['values'][0])\n",
    "        if (np.absolute(CRVAL1 - CRLN_OBS) > 70.0):\n",
    "            print 'skip: latitude is out of range for HARPNUM',idx.HARPNUM.values[0],'at time', t_rec[i]\n",
    "            continue\n",
    "            \n",
    "        if ('MISSING' in str(data['keywords'])):\n",
    "            print 'skip: there are some missing keywords for HARPNUM',idx.HARPNUM.values[0],'at time', t_rec[i]\n",
    "            continue\n",
    "\n",
    "        print 'printing data for NOAA Active Region number',str(int(listofactiveregions[i])),'and HARPNUM',idx.HARPNUM.values[0],'at time', t_rec[i]\n",
    "\n",
    "        individual_flare_data = []\n",
    "        for j in range(18):\n",
    "            individual_flare_data.append(float(data['keywords'][j]['values'][0]))\n",
    "    \n",
    "        catalog_data.append(list(individual_flare_data))\n",
    "    \n",
    "        single_class_instance = [idx.HARPNUM.values[0],str(int(listofactiveregions[i])),listofgoesclasses[i],t_rec[i]]\n",
    "        classification.append(single_class_instance)\n",
    "\n",
    "    return catalog_data, classification"
   ]
  },
  {
   "cell_type": "markdown",
   "metadata": {},
   "source": [
    "Now we prepare the data to be fed into the function:"
   ]
  },
  {
   "cell_type": "code",
   "execution_count": null,
   "metadata": {
    "collapsed": false
   },
   "outputs": [],
   "source": [
    "listofactiveregions = list(events['Active Region Number'].values.flatten())\n",
    "listofgoesclasses = list(events['Class'].values.flatten())"
   ]
  },
  {
   "cell_type": "markdown",
   "metadata": {},
   "source": [
    "And call the function:"
   ]
  },
  {
   "cell_type": "code",
   "execution_count": null,
   "metadata": {
    "collapsed": false
   },
   "outputs": [],
   "source": [
    "positive_result = get_the_jsoc_data()"
   ]
  },
  {
   "cell_type": "markdown",
   "metadata": {},
   "source": [
    "Here is the list of events associated with the positive class:"
   ]
  },
  {
   "cell_type": "code",
   "execution_count": null,
   "metadata": {
    "collapsed": false,
    "scrolled": true
   },
   "outputs": [],
   "source": [
    "CME_data = positive_result[0]\n",
    "positive_class = positive_result[1]\n",
    "# the following output is in the Stanford Digital Repository:\n",
    "print \"There are\", len(CME_data), \"CME events (positive class).\"\n",
    "print \"HARPNUM, NOAA Number, Class, Peak Time, USFLUX, MEANGBT, MEANJZH, MEANPOT, SHRGT45, TOTUSJH, MEANGBH, MEANALP, MEANGAM, MEANGBZ, MEANJZD, TOTUSJZ, SAVNCPP, TOTPOT, MEANSHR, AREA_ACR, R_VALUE, ABSNJZH\"\n",
    "for i in range(len(CME_data)):\n",
    "    print positive_class[i][0], positive_class[i][1], positive_class[i][2], positive_class[i][3],positive_result[0][i][0],positive_result[0][i][1],positive_result[0][i][2],positive_result[0][i][3],positive_result[0][i][4],positive_result[0][i][5],positive_result[0][i][6],positive_result[0][i][7],positive_result[0][i][8],positive_result[0][i][9],positive_result[0][i][10],positive_result[0][i][11],positive_result[0][i][12],positive_result[0][i][13],positive_result[0][i][14],positive_result[0][i][15],positive_result[0][i][16],positive_result[0][i][17]"
   ]
  },
  {
   "cell_type": "markdown",
   "metadata": {},
   "source": [
    "### step 2: gathering data for the negative class"
   ]
  },
  {
   "cell_type": "markdown",
   "metadata": {},
   "source": [
    "To gather the examples for the negative class, we only need to query the GOES database for all the M- and X-class flares in our time of interest, and select the ones that are not associated with a CME. If a flare appears in the positive class, we reject it. If not, it qualifies for the negative class.\n",
    "\n",
    "This filter is more rigorous than it needs to be. Since the DONKI and GOES database peak times don't match, this filter seeks one flare match between the DONKI and GOES database within a span of 12 minutes. If there are more than flare matches within this time, all of them will be rejected from the negative class -- even the flare existed in teh GOES database but was not in the DONKI database. But that's okay, because the classes are already massively imbalanced, and having a few less negative class events than maximally possible will still give the same result."
   ]
  },
  {
   "cell_type": "code",
   "execution_count": null,
   "metadata": {
    "collapsed": false
   },
   "outputs": [],
   "source": [
    "# select peak times that belong to both classes\n",
    "all_peak_times = np.array([(listofresults[i]['peak_time']) for i in range(len(listofresults))])\n",
    "\n",
    "#select peak times that belong to the positive class\n",
    "positive_peak_times = np.array([(parse_tai_string(positive_class[i][3])) + timedelta(hours=timedelayvariable) for i in range(len(positive_class))])\n",
    "\n",
    "negative_class_possibilities = [] \n",
    "counter_positive = 0\n",
    "counter_negative = 0\n",
    "for i in range(len(listofresults)):\n",
    "    if (listofresults[i]['noaa_active_region'] < 10000):\n",
    "        continue\n",
    "    this_peak_time = all_peak_times[i]\n",
    "    max_peak_time = this_peak_time + timedelta(0,0,0,0,6)\n",
    "    min_peak_time = this_peak_time - timedelta(0,0,0,0,6)\n",
    "    match_peak_times = np.where((np.logical_and(positive_peak_times <= max_peak_time, positive_peak_times >= min_peak_time)) == True)\n",
    "    if (match_peak_times[0].shape[0] == 1):\n",
    "        counter_positive +=1\n",
    "    else:\n",
    "        counter_negative += 1\n",
    "        this_instance = [listofresults[i]['noaa_active_region'],listofresults[i]['goes_class'],listofresults[i]['peak_time']]\n",
    "        negative_class_possibilities.append(this_instance)\n",
    "print \"There are\", counter_positive,\"maximal events in the positive class (the true number may be less than this).\"\n",
    "print \"There are\",counter_negative,\"possible events in the negative class.\""
   ]
  },
  {
   "cell_type": "markdown",
   "metadata": {},
   "source": [
    "Again, we compute times that are one day before the flare peak time:"
   ]
  },
  {
   "cell_type": "code",
   "execution_count": null,
   "metadata": {
    "collapsed": false
   },
   "outputs": [],
   "source": [
    "# create an array of datetime objects \n",
    "x = np.array([negative_class_possibilities[i][2] for i in range(len(negative_class_possibilities))])\n",
    "t_rec = create_tai_string(x)\n",
    "n_elements = len(t_rec)"
   ]
  },
  {
   "cell_type": "markdown",
   "metadata": {},
   "source": [
    "And again, we query the JSOC database to see if these data are present:"
   ]
  },
  {
   "cell_type": "code",
   "execution_count": null,
   "metadata": {
    "collapsed": false
   },
   "outputs": [],
   "source": [
    "listofactiveregions = list(negative_class_possibilities[i][0] for i in range(n_elements))\n",
    "listofgoesclasses = list(negative_class_possibilities[i][1] for i in range(n_elements))"
   ]
  },
  {
   "cell_type": "code",
   "execution_count": null,
   "metadata": {
    "collapsed": false
   },
   "outputs": [],
   "source": [
    "negative_result = get_the_jsoc_data()"
   ]
  },
  {
   "cell_type": "markdown",
   "metadata": {},
   "source": [
    "Here is the list of events associated with the negative class:"
   ]
  },
  {
   "cell_type": "code",
   "execution_count": null,
   "metadata": {
    "collapsed": false
   },
   "outputs": [],
   "source": [
    "no_CME_data = negative_result[0]\n",
    "negative_class = negative_result[1]\n",
    "# the following output is in the Stanford Digital Repository:\n",
    "print \"There are\", len(no_CME_data), \"no-CME events (negative class).\"\n",
    "print \"HARPNUM, NOAA Number, Class, Peak Time, USFLUX, MEANGBT, MEANJZH, MEANPOT, SHRGT45, TOTUSJH, MEANGBH, MEANALP, MEANGAM, MEANGBZ, MEANJZD, TOTUSJZ, SAVNCPP, TOTPOT, MEANSHR, AREA_ACR, R_VALUE, ABSNJZH\"\n",
    "for i in range(len(no_CME_data)):\n",
    "    print negative_class[i][0], negative_class[i][1], negative_class[i][2], negative_class[i][3],negative_result[0][i][0],negative_result[0][i][1],negative_result[0][i][2],negative_result[0][i][3],negative_result[0][i][4],negative_result[0][i][5],negative_result[0][i][6],negative_result[0][i][7],negative_result[0][i][8],negative_result[0][i][9],negative_result[0][i][10],negative_result[0][i][11],negative_result[0][i][12],negative_result[0][i][13],negative_result[0][i][14],negative_result[0][i][15],negative_result[0][i][16],negative_result[0][i][17]"
   ]
  },
  {
   "cell_type": "markdown",
   "metadata": {},
   "source": [
    "### step 3: feature selection"
   ]
  },
  {
   "cell_type": "markdown",
   "metadata": {},
   "source": [
    "Now we will add another feature, the flare class, to our analysis just for the feature selection part. The flare class is similar in concept to the flare index, described in [Antalová (1996)](http://adsabs.harvard.edu/abs/1996CoSka..26...98A), except it is calculated for one flare. We define the flare class $FC$ as follows: $FC = CM$ where $C$ is a constant that equals 10.0 in the case of X-class flares and 1.0 in the case of M-class flares and $M$ is the magnitude of the flare. Of course, we can't a priori know the class of a flare in a real-time scenario. However, it is interesting from a scientific point of view, rather than a prediction point of view, to see if the flare class does a good job of distinguishing between the events in the positive and negative class."
   ]
  },
  {
   "cell_type": "code",
   "execution_count": null,
   "metadata": {
    "collapsed": false
   },
   "outputs": [],
   "source": [
    "def create_flare_class(type_of_class):\n",
    "    total_flare_class = []\n",
    "    for i in range(len(type_of_class)):\n",
    "        magnitude = float(type_of_class[i][2][1:4])\n",
    "        flareclass = type_of_class[i][2][0]\n",
    "        if (flareclass == 'M'):\n",
    "            factor = 1.0\n",
    "        if (flareclass == 'X'):\n",
    "            factor = 10.0\n",
    "        total_flare_class.append(factor*magnitude)\n",
    "    return total_flare_class"
   ]
  },
  {
   "cell_type": "code",
   "execution_count": null,
   "metadata": {
    "collapsed": false
   },
   "outputs": [],
   "source": [
    "positive_flare_class = np.array(create_flare_class(positive_class))\n",
    "negative_flare_class = np.array(create_flare_class(negative_class))"
   ]
  },
  {
   "cell_type": "markdown",
   "metadata": {},
   "source": [
    "Now we'll convert our data into numpy arrays and add the flare index as an additional feature:"
   ]
  },
  {
   "cell_type": "code",
   "execution_count": null,
   "metadata": {
    "collapsed": true
   },
   "outputs": [],
   "source": [
    "CME_data = np.array(CME_data)\n",
    "no_CME_data = np.array(no_CME_data)"
   ]
  },
  {
   "cell_type": "code",
   "execution_count": null,
   "metadata": {
    "collapsed": false
   },
   "outputs": [],
   "source": [
    "CME_data = np.column_stack((CME_data, positive_flare_class))\n",
    "no_CME_data = np.column_stack((no_CME_data, negative_flare_class))\n",
    "print \"Now we have\", CME_data.shape[1], \"features.\""
   ]
  },
  {
   "cell_type": "markdown",
   "metadata": {},
   "source": [
    "To improve the performance of the feature selection algorithm, we'll normalize each feature so that they lie within similar ranges. To do this, we subtract from every feature its median value and divide by its standard deviation."
   ]
  },
  {
   "cell_type": "code",
   "execution_count": null,
   "metadata": {
    "collapsed": false
   },
   "outputs": [],
   "source": [
    "def normalize_the_data(flare_data):\n",
    "    flare_data = np.array(flare_data)\n",
    "    n_elements = flare_data.shape[0]\n",
    "    for j in range(flare_data.shape[1]):\n",
    "        standard_deviation_of_this_feature = np.std(flare_data[:,j])\n",
    "        median_of_this_feature = np.median(flare_data[:,j])\n",
    "        for i in range(n_elements):\n",
    "            flare_data[i,j] = (flare_data[i,j] - median_of_this_feature) / (standard_deviation_of_this_feature)\n",
    "    return flare_data\n",
    "\n",
    "no_CME_data = normalize_the_data(no_CME_data)\n",
    "CME_data = normalize_the_data(CME_data)\n",
    "\n",
    "print \"There are\", no_CME_data.shape[0], \"flares with no associated CMEs.\"\n",
    "print \"There are\", CME_data.shape[0], \"flares with associated CMEs.\""
   ]
  },
  {
   "cell_type": "markdown",
   "metadata": {},
   "source": [
    "Let's look at the distribution of one feature for the active regions that both flared and produced a CME (green) and for the active regions that flared but did not produce a CME (red):"
   ]
  },
  {
   "cell_type": "code",
   "execution_count": null,
   "metadata": {
    "collapsed": false,
    "scrolled": false
   },
   "outputs": [],
   "source": [
    "sharps = ['Total unsigned flux', 'Mean gradient of total field', \n",
    "'Mean current helicity (Bz contribution)', 'Mean photospheric magnetic free energy',\n",
    "'Fraction of Area with Shear > 45 deg', 'Total unsigned current helicity',\n",
    "'Mean gradient of horizontal field', 'Mean characteristic twist parameter, alpha',\n",
    "'Mean angle of field from radial', 'Mean gradient of vertical field', \n",
    "'Mean vertical current density', 'Total unsigned vertical current', \n",
    "'Sum of the modulus of the net current per polarity',\n",
    "'Total photospheric magnetic free energy density', 'Mean shear angle',\n",
    "'Area of strong field pixels in the active region', 'Sum of flux near polarity inversion line',\n",
    "'Absolute value of the net current helicity','Flare index']\n",
    "\n",
    "i=6\n",
    "\n",
    "# For the positive class (green)\n",
    "mu_fl = np.mean(CME_data[:,i])\n",
    "sigma_fl = np.std(CME_data[:,i])\n",
    "num_bins = 15\n",
    "n_fl, bins_fl, patches_fl = plt.hist(CME_data[:,i], num_bins, normed=1, facecolor='green', alpha=0.5)\n",
    "y_fl = mlab.normpdf(bins_fl, mu_fl, sigma_fl)\n",
    "plt.plot(bins_fl, y_fl, 'g--',label='positive class')\n",
    "\n",
    "# For the negative class (red)\n",
    "mu_nofl = np.mean(no_CME_data[:,i])\n",
    "sigma_nofl = np.std(no_CME_data[:,i])\n",
    "n_nofl, bins_nofl, patches_nofl = plt.hist(no_CME_data[:,i], num_bins, normed=1, facecolor='red', alpha=0.5)\n",
    "y_nofl = mlab.normpdf(bins_nofl, mu_nofl, sigma_nofl)\n",
    "plt.plot(bins_nofl, y_nofl, 'r--',label='negative class')\n",
    "\n",
    "text_style = dict(fontsize=16, fontdict={'family': 'monospace'})\n",
    "plt.xlabel('Normalized '+sharps[i],**text_style)\n",
    "plt.ylabel('Number (normalized)', labelpad=20,**text_style)\n",
    "fig = plt.gcf()\n",
    "fig.set_size_inches(10,5)\n",
    "fig.savefig('fscore_tmp.png',bbox_inches='tight')\n",
    "legend = plt.legend(loc='upper right', fontsize=12, framealpha=0.0,title='')\n",
    "legend.get_frame().set_linewidth(0.0)\n",
    "mpld3.enable_notebook()"
   ]
  },
  {
   "cell_type": "markdown",
   "metadata": {},
   "source": [
    "You can change the value of `i` in the code block above to see that some features are totally useless as there is barely any difference in the distributions for the positive and negative class. As such, we can throw such features out of our sample. It's a good idea to do some feature selection before running the SVM, so as to reduce noise (in this case, with only 19 features, there's not too much noise to begin with). Here we will be computing the Univariate F-score for feature selection. It is a very simple method: the F-score measures the distance between the two distributions for a given feature (inter-class distance), divided by the sum of the variances for this feature (intra-class distance). We can use the `sklearn.feature_selection` module to do this:"
   ]
  },
  {
   "cell_type": "code",
   "execution_count": null,
   "metadata": {
    "collapsed": false
   },
   "outputs": [],
   "source": [
    "from sklearn.feature_selection import SelectKBest, f_classif  # import the feature selection method\n",
    "N_features = 19                                               # select the number of features \n",
    "Nfl = CME_data.shape[0]; Nnofl = no_CME_data.shape[0]\n",
    "yfl = np.ones(Nfl); ynofl = np.zeros(Nnofl)\n",
    "selector = SelectKBest(f_classif, k=N_features)               # k is the number of features\n",
    "selector.fit(np.concatenate((CME_data,no_CME_data),axis=0), np.concatenate((yfl, ynofl), axis=0))\n",
    "scores=selector.scores_\n",
    "print scores"
   ]
  },
  {
   "cell_type": "markdown",
   "metadata": {},
   "source": [
    "It's not easy to interpret the scores in this fashion, so let's plot the results:"
   ]
  },
  {
   "cell_type": "code",
   "execution_count": null,
   "metadata": {
    "collapsed": false
   },
   "outputs": [],
   "source": [
    "mpld3.disable_notebook()\n",
    "plt.clf()\n",
    "order = np.argsort(scores)\n",
    "orderedsharps = [sharps[i] for i in order]\n",
    "y_pos2 = np.arange(19)\n",
    "plt.barh(y_pos2, sorted(scores/np.max(scores)), align='center')\n",
    "plt.ylim((-1, 19))\n",
    "plt.yticks(y_pos2, orderedsharps)\n",
    "plt.xlabel('Normalized Fisher Score', fontsize=15)\n",
    "plt.title('Ranking of SHARP features', fontsize=15)\n",
    "fig = plt.gcf()\n",
    "fig.set_size_inches(8,10)\n",
    "fig.savefig('sharp_ranking_48hours.png',bbox_inches='tight')\n",
    "plt.show()"
   ]
  },
  {
   "cell_type": "markdown",
   "metadata": {},
   "source": [
    "If we're interested, we can compute the Pearson linear correlation coefficients between any pair of features:"
   ]
  },
  {
   "cell_type": "code",
   "execution_count": null,
   "metadata": {
    "collapsed": false
   },
   "outputs": [],
   "source": [
    "xdata = np.concatenate((CME_data, no_CME_data), axis=0)\n",
    "ydata = np.concatenate((np.ones(Nfl), np.zeros(Nnofl)), axis=0)"
   ]
  },
  {
   "cell_type": "code",
   "execution_count": null,
   "metadata": {
    "collapsed": false
   },
   "outputs": [],
   "source": [
    "for i in range(len(sharps)):\n",
    "    for j in range(len(sharps)):\n",
    "        x = pearse(xdata[:,i],xdata[:,j])\n",
    "        print \"The correlation between\",sharps[i],\"and\",sharps[j],\"is\",x[0],\".\""
   ]
  },
  {
   "cell_type": "markdown",
   "metadata": {},
   "source": [
    "We see that the flare class is poorly ranked using the F-score; further, we cannot use this feature in a real-time setting. As such, we'll eliminate this feature before we go on to run the classifier."
   ]
  },
  {
   "cell_type": "code",
   "execution_count": null,
   "metadata": {
    "collapsed": false
   },
   "outputs": [],
   "source": [
    "CME_data = CME_data[:,0:18]\n",
    "no_CME_data = no_CME_data[:,0:18]\n",
    "print \"Now we are back to\", CME_data.shape[1], \"features.\""
   ]
  },
  {
   "cell_type": "markdown",
   "metadata": {},
   "source": [
    "Now we can run the classifier, a support vector machine using the `sklearn.svm` module:"
   ]
  },
  {
   "cell_type": "markdown",
   "metadata": {},
   "source": [
    "### step 4: the support vector machine"
   ]
  },
  {
   "cell_type": "markdown",
   "metadata": {},
   "source": [
    "Now we run the support vector machine on the data. The SVM uses non-linear decision functions to map the feature space into a higher-dimensional space, where the positive and negative examples can be separated linearly by a hyperplane. "
   ]
  },
  {
   "cell_type": "code",
   "execution_count": null,
   "metadata": {
    "collapsed": false
   },
   "outputs": [],
   "source": [
    "number_of_examples = Nfl + Nnofl\n",
    "C = 4.0; gamma = 0.075; class_weight = {1:6.5}\n",
    "clf = svm.SVC(C=C, gamma=gamma, kernel='rbf', class_weight=class_weight, cache_size=500, max_iter=-1, shrinking=True, tol=1e-8)"
   ]
  },
  {
   "cell_type": "markdown",
   "metadata": {},
   "source": [
    "### step 5: stratified k-folds cross-validation"
   ]
  },
  {
   "cell_type": "markdown",
   "metadata": {},
   "source": [
    "Now we evaluate the performance of the SVM. There are many different ways to do this. In our case, the positive sample size is quite small (both objectively and compared to the negative sample size). So one particular way we can cross validate our results is to use the stratified k-folds cross-validation method, which makes k partitions of the data set and uses k-1 folds for training and 1 fold for testing. The stratification preserves the ratio of positive to negative examples per fold. Then we can permute over the partitions such that each partition eventually makes its way into the testing set. For each individual testing set, we can calculate a skill score. Then we can average the skill scores over the total number of testing sets. \n",
    "\n",
    "First, let's define a confusion table to measure the performance of our binary classification by computing the sensitivity, specificity, false positive, and false negative rates:"
   ]
  },
  {
   "cell_type": "code",
   "execution_count": null,
   "metadata": {
    "collapsed": false
   },
   "outputs": [],
   "source": [
    "def confusion_table(pred, labels):\n",
    "    \"\"\"\n",
    "    computes the number of TP, TN, FP, FN events given the arrays with predictions and true labels\n",
    "    and returns the true skill score\n",
    "  \n",
    "    Args:\n",
    "    pred: np array with predictions (1 for flare, 0 for nonflare)\n",
    "    labels: np array with true labels (1 for flare, 0 for nonflare)\n",
    "  \n",
    "    Returns: true negative, false positive, true positive, false negative\n",
    "    \"\"\"  \n",
    "    Nobs = len(pred)\n",
    "    TN = 0.; TP = 0.; FP = 0.; FN = 0.\n",
    "    for i in range(Nobs):\n",
    "        if (pred[i] == 0 and labels[i] == 0):\n",
    "            TN += 1\n",
    "        elif (pred[i] == 1 and labels[i] == 0):\n",
    "            FP += 1\n",
    "        elif (pred[i] == 1 and labels[i] == 1):\n",
    "            TP += 1 \n",
    "        elif (pred[i] == 0 and labels[i] == 1):\n",
    "            FN += 1\n",
    "        else:\n",
    "            print \"Error! Observation could not be classified.\"\n",
    "    return TN,FP,TP,FN"
   ]
  },
  {
   "cell_type": "markdown",
   "metadata": {},
   "source": [
    "We prefer the True Skill Score (TSS) to all the other metrics as it is insensitive to the class imbalance ratio and thus best for comparison to other groups. The TSS is symmetrically distributed about 0: i.e., it goes from [-1, 1] where 0 represents no skill and a negative value represents a perverse prediction. Thus we are able to predict CMEs in a fashion better than randomly guessing. To compute the TSS, we must first select a value of k. k can be arbitrarily defined and take any value between 2 and `number_of_examples`, so we can explore this parameter space. As k approaches `number_of_examples`, the k-fold method reduces to the Leave One Out method, in which only one example is in the testing set and all other examples are in the training set. The literature suggests this method is not the best, so we can stray away from high values of k. Many studies (e.g. [Kohavi, 1995](http://web.cs.iastate.edu/~jtian/cs573/Papers/Kohavi-IJCAI-95.pdf)) recommend the stratified 10-fold cross-validation to reduce variance and bias. Here, we test their recommendation by computing the TSS using 50 k values, ranging from 2 to 52."
   ]
  },
  {
   "cell_type": "code",
   "execution_count": null,
   "metadata": {
    "collapsed": false
   },
   "outputs": [],
   "source": [
    "array_of_avg_TSS = np.ndarray([50])\n",
    "array_of_std_TSS = np.ndarray([50])\n",
    "pred = -np.ones(number_of_examples)\n",
    "xdata = np.concatenate((CME_data, no_CME_data), axis=0)\n",
    "ydata = np.concatenate((np.ones(Nfl), np.zeros(Nnofl)), axis=0)\n",
    "shuffle_index = np.arange(number_of_examples)                  # shuffle the data indices \n",
    "np.random.shuffle(shuffle_index)\n",
    "ydata_shuffled = ydata[shuffle_index]\n",
    "xdata_shuffled = xdata[shuffle_index,:]\n",
    "for k in range(2,52):\n",
    "    skf = cross_validation.StratifiedKFold(ydata_shuffled, n_folds=k)\n",
    "    these_TSS_for_this_k = []\n",
    "    for j, i in skf: \n",
    "        train = xdata_shuffled[j]; test = xdata_shuffled[i]     # test is examples in testing set; train is examples in training set\n",
    "        ytrain = ydata_shuffled[j]; ytest = ydata_shuffled[i]   # ytest is labels in testing set; ytrain is labels in training set\n",
    "        clf.fit(train, ytrain)\n",
    "        pred[i] = clf.predict(test)\n",
    "        TN,FP,TP,FN = confusion_table(pred[i], ydata_shuffled[i])\n",
    "        if (((TP+FN) == 0.0) or (FP+TN)==0.0):\n",
    "            these_TSS_for_this_k.append(-1.0)\n",
    "            continue\n",
    "        else:\n",
    "            these_TSS_for_this_k.append(TP/(TP+FN) - FP/(FP+TN))\n",
    "    TSS_k = np.array(these_TSS_for_this_k)\n",
    "    array_of_avg_TSS[k-2]=np.mean(TSS_k)\n",
    "    array_of_std_TSS[k-2]=np.std(TSS_k)"
   ]
  },
  {
   "cell_type": "markdown",
   "metadata": {},
   "source": [
    "Now we can plot the mean TSS per k, using the standard deviation as the error in the TSS. We see that for high values of k, the standard deviation in the TSS can be greater than the mean. These points are indicated in blue."
   ]
  },
  {
   "cell_type": "code",
   "execution_count": null,
   "metadata": {
    "collapsed": false
   },
   "outputs": [],
   "source": [
    "fig, ax = plt.subplots(figsize=(10,8))      # define the size of the figure\n",
    "orangered = (1.0,0.27,0,1.0)                # create an orange-red color\n",
    "cornblue  = (0.39,0.58,0.93,1.0)            # create a cornflower-blue color\n",
    "\n",
    "# define some style elements\n",
    "marker_style_red  = dict(linestyle='', markersize=8, fillstyle='full',color=orangered,markeredgecolor=orangered)\n",
    "marker_style_blue = dict(linestyle='', markersize=8, fillstyle='full',color=cornblue,markeredgecolor=cornblue)\n",
    "text_style = dict(fontsize=16, fontdict={'family': 'monospace'})\n",
    "\n",
    "# ascribe the data to the axes\n",
    "k = np.arange(50)+2\n",
    "for i in range(50):\n",
    "    if (array_of_avg_TSS[i] > array_of_std_TSS[i]):\n",
    "        ax.errorbar(k[i], array_of_avg_TSS[i], yerr=array_of_std_TSS[i], linestyle='',color=orangered)\n",
    "        ax.plot(k[i], array_of_avg_TSS[i],'o',**marker_style_red)\n",
    "    if (array_of_avg_TSS[i] <= array_of_std_TSS[i]):\n",
    "        ax.errorbar(k[i], array_of_avg_TSS[i], yerr=array_of_std_TSS[i], linestyle='',color=cornblue)\n",
    "        ax.plot(k[i], array_of_avg_TSS[i],'o',**marker_style_blue)\n",
    "plt.xlim(xmax = 52, xmin = 0)\n",
    "\n",
    "# label the axes and the plot\n",
    "ax.set_xlabel('k',**text_style)\n",
    "ax.set_ylabel('TSS',labelpad=20,**text_style)\n",
    "plt.title(r'TSS per k using stratified k-fold cross-validation',**text_style)\n",
    "fig = plt.gcf()\n",
    "fig.set_size_inches(10,5)\n",
    "mpld3.enable_notebook()"
   ]
  },
  {
   "cell_type": "markdown",
   "metadata": {},
   "source": [
    "As such, we confirm that high k-values result in a high variance. We find it reasonable to use the stratified 10-fold cross-validation method to compute the TSS and will follow this recommendation. The TSS reported below may not be exactly the same as that in the paper as the `np.shuffle` function performs a randomization that is impossible to reproduce exactly; however the TSS reported in the paper will be within the computed error:"
   ]
  },
  {
   "cell_type": "code",
   "execution_count": null,
   "metadata": {
    "collapsed": false
   },
   "outputs": [],
   "source": [
    "print \"The TSS equals\",array_of_avg_TSS[8],\"plus or minus\",array_of_std_TSS[8]"
   ]
  }
 ],
 "metadata": {
  "kernelspec": {
   "display_name": "Python 3",
   "language": "python",
   "name": "python3"
  },
  "language_info": {
   "codemirror_mode": {
    "name": "ipython",
    "version": 3
   },
   "file_extension": ".py",
   "mimetype": "text/x-python",
   "name": "python",
   "nbconvert_exporter": "python",
   "pygments_lexer": "ipython3",
   "version": "3.5.2"
  }
 },
 "nbformat": 4,
 "nbformat_minor": 0
}
